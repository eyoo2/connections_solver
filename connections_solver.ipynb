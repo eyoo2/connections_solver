{
 "cells": [
  {
   "cell_type": "markdown",
   "id": "8911911b-7f12-4247-b10d-97a1e46d5a29",
   "metadata": {},
   "source": [
    "## Imports"
   ]
  },
  {
   "cell_type": "code",
   "execution_count": 1,
   "id": "72c72c66-30d5-4d07-9315-f70e4fbfaba3",
   "metadata": {},
   "outputs": [],
   "source": [
    "# basic packages\n",
    "import numpy as np\n",
    "import matplotlib.pyplot as plt\n",
    "\n",
    "# ML packages\n",
    "import gensim\n",
    "from gensim.models import Word2Vec\n",
    "from nltk.tokenize import sent_tokenize, word_tokenize\n",
    "import warnings\n",
    "\n",
    "# load pre-trained word vector model\n",
    "import gensim.downloader as api\n",
    "wv = api.load('glove-wiki-gigaword-50')\n",
    "\n",
    "from sklearn.decomposition import PCA\n",
    "from scipy.cluster.vq import kmeans2\n",
    "from sklearn.cluster import KMeans"
   ]
  },
  {
   "cell_type": "markdown",
   "id": "963e8044-0d7d-468f-b39f-88ffc0d84e5b",
   "metadata": {},
   "source": [
    "## Load Wordbox\n",
    "2 options:\n",
    "1. Automatic via web scraper\n",
    "2. Manually input 16 words"
   ]
  },
  {
   "cell_type": "markdown",
   "id": "4ad62b99-02d3-4bed-8f34-9632f3e96247",
   "metadata": {},
   "source": [
    "### Web Scraper\n",
    "Automatically gather 16 words of the day from NYT Games"
   ]
  },
  {
   "cell_type": "code",
   "execution_count": 2,
   "id": "f733f06e-3b3a-4cc7-b916-7dc4c8b4f0ad",
   "metadata": {},
   "outputs": [],
   "source": [
    "import time\n",
    "import os\n",
    "import zipfile\n",
    "from selenium import webdriver\n",
    "\n",
    "# Donwload ChromeDriver\n",
    "from selenium.webdriver.chrome.service import Service\n",
    "from selenium.webdriver.chrome.options import Options\n",
    "from selenium.webdriver.common.by import By\n",
    "from selenium.webdriver.support.ui import Select\n",
    "from webdriver_manager.chrome import ChromeDriverManager\n",
    "from selenium.webdriver.support.ui import WebDriverWait\n",
    "\n",
    "options = Options()\n",
    "options.add_argument('--headless')\n",
    "options.add_argument('--no-sandbox')\n",
    "options.add_argument('--disable-dev-shm-usage')"
   ]
  },
  {
   "cell_type": "code",
   "execution_count": 3,
   "id": "2570a8c3-713f-4529-8391-a3607afbf89f",
   "metadata": {},
   "outputs": [
    {
     "name": "stdout",
     "output_type": "stream",
     "text": [
      "today's words: ['luxe', 'trek', 'bottle', 'wars', 'cope', 'anise', 'sara', 'kelly', 'sage', 'march', 'hunter', 'mace', 'hike', 'pea', 'dill', 'tramp']\n"
     ]
    }
   ],
   "source": [
    "# Download and run ChromeDriver\n",
    "driver = webdriver.Chrome(service=Service(ChromeDriverManager().install()), options=options)\n",
    "\n",
    "# go to today's Connections\n",
    "homepage = \"https://www.nytimes.com/games/connections\"\n",
    "driver.execute_script(f\"window.open(arguments[0], '_blank');\", homepage)\n",
    "driver.switch_to.window(driver.window_handles[-1]) # open most recently opened window\n",
    "\n",
    "try:\n",
    "    button = driver.find_element(By.CSS_SELECTOR, '[data-testid=\"moment-btn-play\"]')\n",
    "    driver.execute_script(\"arguments[0].click();\", button)\n",
    "    #print(\"Play button clicked!\")\n",
    "except Exception as e:\n",
    "    print(f\"Error clicking button: {e}\")\n",
    "\n",
    "inputs = driver.find_elements(By.CSS_SELECTOR, 'label input')\n",
    "wordbox = [inp.get_attribute('value').lower() for inp in inputs]\n",
    "\n",
    "print(f\"today's words: {wordbox}\")"
   ]
  },
  {
   "cell_type": "code",
   "execution_count": 4,
   "id": "8929db3e-7831-48b0-8f97-3aec47d799b2",
   "metadata": {},
   "outputs": [],
   "source": [
    "# Quit driver once wordbox has been collected\n",
    "driver.quit()"
   ]
  },
  {
   "cell_type": "markdown",
   "id": "b24b1c86-7dd8-408a-938b-1be1c7604a4d",
   "metadata": {},
   "source": [
    "### Set wordbox manually"
   ]
  },
  {
   "cell_type": "code",
   "execution_count": 19,
   "id": "f290bf09-7956-4d18-837a-6641a6d5d5b8",
   "metadata": {},
   "outputs": [],
   "source": [
    "# Example from July 6th, 2025\n",
    "wordbox = ['dre', 'evil', 'pepper', 'seuss', 'ceramics', 'china', 'pottery', 'ware', 'crumb', 'grain', 'morsel', 'shred', 'crypto', 'decaf', 'disney', 'prussian']"
   ]
  },
  {
   "cell_type": "markdown",
   "id": "ff6ba90d-6b51-4047-8364-48d967d9ec9b",
   "metadata": {},
   "source": [
    "## Algorithm A) Follow the Leader\n",
    "\n",
    "This algorithm starts with finding the highest Word2Vec similarity score between a word pairing from the similarity matrix. Those two words are added to a \"solution set\".\n",
    "\n",
    "The next highest similarity scores related to one of the words are added to the set for a total 4 words.\n",
    "* This is determined by searching for the next highest similarity scores within the same row i.e. finding the most similar words for the \"row word\" of the original pair.\n",
    "* This process is repeated for 4 sets of 4 words each.\n",
    "\n",
    "After a word is added to a set, its corresponding row and column in the similarity matrix is filtered\n",
    "out using a boolean mask to prevent words being duplicated across sets.\n",
    "* In the mask, 1 = keep element and 0 = filter out element.\n",
    "* All diagonal entries are filtered out to start since they represent the similarity score for each word with itself."
   ]
  },
  {
   "cell_type": "code",
   "execution_count": 20,
   "id": "0e576d13-37d9-49b9-958a-e87d23baece2",
   "metadata": {
    "scrolled": true
   },
   "outputs": [],
   "source": [
    "'''\n",
    "Create 16x16 similarity matrix where each row & column represents a word from the wordbox.\n",
    "    Each element of the matrix contains the Word2Vec similarity score for the words of the row & column.\n",
    "    Note the matrix will be symmetric with duplicate elements.\n",
    "'''\n",
    "\n",
    "n = len(wordbox)\n",
    "\n",
    "# create similarity matrix\n",
    "og_matrix = np.zeros((n, n))\n",
    "\n",
    "for i in range(n):\n",
    "    for j in range(n):\n",
    "        if i == j:\n",
    "            continue\n",
    "        og_matrix[i, j] = wv.similarity(wordbox[i], wordbox[j])"
   ]
  },
  {
   "cell_type": "code",
   "execution_count": 21,
   "id": "b625e171-0739-4759-b4f3-e0e499b4a74c",
   "metadata": {},
   "outputs": [
    {
     "name": "stdout",
     "output_type": "stream",
     "text": [
      "Found Solution Sets:\n",
      "\n",
      "['ceramics', 'pottery', 'ware', 'grain']\n",
      "['pepper', 'crumb', 'shred', 'decaf']\n",
      "['evil', 'disney', 'china', 'seuss']\n",
      "['dre', 'crypto', 'morsel', 'prussian']\n"
     ]
    }
   ],
   "source": [
    "'''\n",
    "Implement the \"Follow the Leader\" algorithm.\n",
    "'''\n",
    "\n",
    "# stores all sets of words\n",
    "all_solutions = []\n",
    "\n",
    "# create boolean mask to filter similarity matrix\n",
    "diagonal = np.array([1]*len(wordbox))\n",
    "mask = np.diag(diagonal)\n",
    "mask[mask == 0] = 2\n",
    "mask[mask == 1] = 0\n",
    "mask[mask == 2] = 1\n",
    "\n",
    "matrices = np.where(mask, og_matrix, np.nan) # filtered form of similarity matrix\n",
    "\n",
    "# \"Follow the Leader\" algorithm\n",
    "for i in range(4):\n",
    "    all_cols = [] # keeps track of top 3 highest scoring column words for a row word\n",
    "    curr_solutions = [] # stores current solution set of words\n",
    "\n",
    "    # find highest similarity score word pair\n",
    "    row, og_col = np.unravel_index(np.nanargmax(matrices, axis=None), matrices.shape)\n",
    "    all_cols.append(og_col)\n",
    "    highest_val = matrices[row, og_col]\n",
    "\n",
    "    first_word = wordbox[row]\n",
    "    second_word = wordbox[og_col]\n",
    "\n",
    "    curr_solutions.extend([first_word, second_word]) # add words to current solution set\n",
    "\n",
    "    # filter out the found entry from similarity matrix\n",
    "    mask[row,og_col] = 0\n",
    "    matrices = np.where(mask, og_matrix, np.nan)\n",
    "\n",
    "    # find the next highest scoring words for the row word\n",
    "    for i in range(2):\n",
    "        col = np.nanargmax(matrices[row], axis=None)\n",
    "        all_cols.append(col)\n",
    "        highest_val = matrices[row, col]\n",
    "\n",
    "        next_word = wordbox[col]\n",
    "        curr_solutions.append(next_word)\n",
    "        \n",
    "        # filter out the found entry from similarity matrix\n",
    "        mask[row,col] = 0\n",
    "        matrices = np.where(mask, og_matrix, np.nan)\n",
    "\n",
    "    # by now, the current solution set has been fully found\n",
    "\n",
    "    # filter out all words from the current set\n",
    "    mask[row,:] = np.array([0] * n)\n",
    "    mask[:,row] = np.array([0] * n)\n",
    "    for col in all_cols:\n",
    "        mask[:,col] = np.array([0] * n)\n",
    "        if col < n:\n",
    "            mask[col,:] = np.array([0] * n)\n",
    "    matrices = np.where(mask, og_matrix, np.nan)\n",
    "        \n",
    "    all_solutions.append(curr_solutions)\n",
    "\n",
    "print(\"Found Solution Sets:\")\n",
    "print(\"\")\n",
    "for solution_set in all_solutions:\n",
    "    print(solution_set)"
   ]
  },
  {
   "cell_type": "markdown",
   "id": "c3532b2b-bef9-47e1-8c64-73c673597ea6",
   "metadata": {},
   "source": [
    "## Algorithm B) Classic Clustering\n",
    "2 clustering algorithms are used:\n",
    "1. scikit-learn KMeans\n",
    "2. sciPy kmeans2\n",
    "\n",
    "For each algorithm, a cluster size restriction is implemented to ensure that no cluster has more than 5 words, i.e. each cluster has between 1-5 words.\n",
    "\n",
    "In \"2D space clustering,\" PCA projects the word vectors into 2D for neat cluster visualizations.\n",
    "In \"Custom dimension clustering,\" you can customize the dimension space for PCA or avoid it entirely."
   ]
  },
  {
   "cell_type": "code",
   "execution_count": 22,
   "id": "bd50a893-f84d-4074-bc6c-516ed91227fa",
   "metadata": {},
   "outputs": [],
   "source": [
    "''' \n",
    "Create word vector dataset for clustering.\n",
    "'''\n",
    "wordbox_list = []\n",
    "\n",
    "for word in wordbox:\n",
    "    wordbox_list.append(wv[word])"
   ]
  },
  {
   "cell_type": "markdown",
   "id": "4851ef1a-1f68-469d-81a5-68963a9941ba",
   "metadata": {},
   "source": [
    "### 2D space clustering\n",
    "Projecting word vectors into 2D allows for easy visualization."
   ]
  },
  {
   "cell_type": "code",
   "execution_count": 23,
   "id": "c9184200-5099-4db3-b449-1cc0a51f1d76",
   "metadata": {},
   "outputs": [
    {
     "name": "stdout",
     "output_type": "stream",
     "text": [
      "KMeans Results:\n",
      "['pepper', 'ware', 'crumb', 'shred', 'decaf']\n",
      "['evil', 'china', 'disney']\n",
      "['dre', 'seuss', 'morsel', 'crypto']\n",
      "['ceramics', 'pottery', 'grain', 'prussian']\n",
      "\n",
      "kmeans2 Results:\n",
      "['evil', 'china', 'disney']\n",
      "['ceramics', 'pottery', 'ware', 'grain', 'prussian']\n",
      "['seuss', 'morsel', 'crypto']\n",
      "['dre', 'pepper', 'crumb', 'shred', 'decaf']\n"
     ]
    },
    {
     "data": {
      "image/png": "[encoded data removed]",
      "text/plain": [
       "<Figure size 480x480 with 1 Axes>"
      ]
     },
     "metadata": {},
     "output_type": "display_data"
    },
    {
     "data": {
      "image/png": "[encoded data removed]",
      "text/plain": [
       "<Figure size 960x480 with 2 Axes>"
      ]
     },
     "metadata": {},
     "output_type": "display_data"
    }
   ],
   "source": [
    "''' \n",
    "Prepare dataset for clustering. \n",
    "Plot all words and clusters from each implemented algorithm in 2D space.\n",
    "'''\n",
    "\n",
    "# set parameters\n",
    "optimal_k = 4\n",
    "optimal_dim = 2\n",
    "\n",
    "obs = np.array(wordbox_list)\n",
    "obs = PCA(n_components=optimal_dim).fit_transform(obs) # apply PCA to project to 2D\n",
    "\n",
    "# ------- Plot all words ------- \n",
    "fig, ax = plt.subplots(figsize=(4,4), dpi=120)\n",
    "\n",
    "ax.scatter(obs[:,0], obs[:,1], alpha=0.5)\n",
    "for i, txt in enumerate(wordbox):\n",
    "    ax.annotate(txt, (obs[i,0], obs[i,1]), fontsize=6, textcoords=\"offset points\", xytext=(0,0), ha='center')\n",
    "\n",
    "ax.grid(which='both', alpha=0.6, linestyle='--', linewidth=0.5)\n",
    "ax.set_title(f\"All Words in 2D Space\")\n",
    "\n",
    "\n",
    "''' Run sklearn KMeans Algorithm '''\n",
    "# repeat clustering until cluster size restriction is met\n",
    "while True:\n",
    "    kmeans = KMeans(n_clusters=optimal_k, n_init=\"auto\").fit(obs)\n",
    "    label = kmeans.labels_\n",
    "    counts = np.bincount(label)\n",
    "    if all(count < 6 for count in counts): # cluster size restriction\n",
    "        break\n",
    "\n",
    "# ------- Plot KMeans clusters ------- \n",
    "fig, ax = plt.subplots(nrows=1, ncols=2, figsize=(8,4), dpi=120)\n",
    "\n",
    "for i in range(optimal_k):\n",
    "    w = obs[label == i]\n",
    "    ax[0].scatter(w[:, 0], w[:, 1], alpha=0.5, label=f\"cluster {i}\")\n",
    "\n",
    "for i, txt in enumerate(wordbox):\n",
    "    ax[0].annotate(txt, (obs[i,0], obs[i,1]), fontsize=6, textcoords=\"offset points\", xytext=(0,0), ha='center')\n",
    "\n",
    "ax[0].grid(which='both', alpha=0.6, linestyle='--', linewidth=0.5)\n",
    "ax[0].set_title(f\"KMeans Clusters in 2D Space\")\n",
    "\n",
    "# ------- Print KMeans cluster groups in text -------\n",
    "group_dict = {i: [] for i in range(optimal_k)}\n",
    "\n",
    "for i in range(len(label)):\n",
    "    l = label[i]\n",
    "    word = wordbox[i]\n",
    "    group_dict[l].append(word)\n",
    "\n",
    "print(\"KMeans Results:\")\n",
    "for key, value in group_dict.items():\n",
    "    print(f\"{value}\")\n",
    "\n",
    "\n",
    "''' Run SciPy kmeans2 Algorithm '''\n",
    "# repeat clustering until cluster size restriction is met\n",
    "while True:\n",
    "    centroid, label = kmeans2(data=obs, k=optimal_k, iter=300, minit=\"++\")\n",
    "    counts = np.bincount(label)\n",
    "    if all(count < 6 for count in counts):\n",
    "        break\n",
    "\n",
    "# ------- Plot kmeans2 clusters ------- \n",
    "for i in range(optimal_k):\n",
    "    w = obs[label == i]\n",
    "    ax[1].scatter(w[:, 0], w[:, 1], alpha=0.5, label=f\"cluster {i}\")\n",
    "\n",
    "for i, txt in enumerate(wordbox):\n",
    "    ax[1].annotate(txt, (obs[i,0], obs[i,1]), fontsize=6, textcoords=\"offset points\", xytext=(0,0), ha='center')\n",
    "\n",
    "ax[1].grid(which='both', alpha=0.6, linestyle='--', linewidth=0.5)\n",
    "ax[1].set_title(f\"kmeans2 Clusters in 2D Space\")\n",
    "\n",
    "# ------- Print kmeans2 cluster groups in text -------\n",
    "group_dict = {i: [] for i in range(4)}\n",
    "\n",
    "for i in range(len(label)):\n",
    "    l = label[i]\n",
    "    word = wordbox[i]\n",
    "    group_dict[l].append(word)\n",
    "\n",
    "print(\"\")\n",
    "print(\"kmeans2 Results:\")\n",
    "for key, value in group_dict.items():\n",
    "    print(f\"{value}\")"
   ]
  },
  {
   "cell_type": "markdown",
   "id": "4811fde6-4920-4be4-a980-1f90c6689cdc",
   "metadata": {},
   "source": [
    "### Custom dimension clustering\n",
    "Input desired dimension space via PCA in the following cell. Both clustering algorithms are run to produce \n",
    "\n",
    "The maximum PCA dimension space is 16.\n",
    "To avoid PCA entirely, input \"0\" for the dimension."
   ]
  },
  {
   "cell_type": "code",
   "execution_count": 24,
   "id": "032a63cf-b7ab-4898-9344-fe6805c6eec4",
   "metadata": {},
   "outputs": [],
   "source": [
    "''' User Input '''\n",
    "dimension = 0"
   ]
  },
  {
   "cell_type": "code",
   "execution_count": 25,
   "id": "565586d8-c915-42cf-af61-fb3b173e14b0",
   "metadata": {
    "scrolled": true
   },
   "outputs": [
    {
     "name": "stdout",
     "output_type": "stream",
     "text": [
      "PCA Not Applied\n",
      "\n",
      "KMeans Results:\n",
      "['seuss', 'morsel', 'shred', 'crypto', 'decaf']\n",
      "['dre', 'pepper', 'crumb']\n",
      "['ceramics', 'pottery', 'ware', 'grain', 'prussian']\n",
      "['evil', 'china', 'disney']\n",
      "\n",
      "kmeans2 Results:\n",
      "['pepper', 'ware', 'crumb', 'grain', 'shred']\n",
      "['dre', 'morsel', 'crypto', 'decaf']\n",
      "['ceramics', 'china', 'pottery', 'prussian']\n",
      "['evil', 'seuss', 'disney']\n"
     ]
    }
   ],
   "source": [
    "''' Run clustering algorithms. '''\n",
    "optimal_k = 4\n",
    "\n",
    "# ------- Apply PCA ------- \n",
    "obs = np.array(wordbox_list)\n",
    "   \n",
    "if dimension != 0:\n",
    "    print(f\"Dimension: {dimension}\")\n",
    "    obs = PCA(n_components=dimension).fit_transform(obs)\n",
    "else:\n",
    "    print(f\"PCA Not Applied\")\n",
    "\n",
    "# ------- Run KMeans -------     \n",
    "print(\"\")\n",
    "print(\"KMeans Results:\")\n",
    "while True:\n",
    "    kmeans = KMeans(n_clusters=optimal_k, n_init=\"auto\").fit(obs)\n",
    "    label = kmeans.labels_\n",
    "    counts = np.bincount(label)\n",
    "    if all(count < 6 for count in counts):\n",
    "        break\n",
    "\n",
    "# ------- Print KMeans cluster groups in text -------\n",
    "group_dict = {i: [] for i in range(optimal_k)}\n",
    "\n",
    "for i in range(len(label)):\n",
    "    l = label[i]\n",
    "    word = wordbox[i]\n",
    "    group_dict[l].append(word)\n",
    "\n",
    "for key, value in group_dict.items():\n",
    "    print(f\"{value}\")\n",
    "\n",
    "\n",
    "# ------- Run kmeans2 ------- \n",
    "print(\"\")\n",
    "print(\"kmeans2 Results:\")\n",
    "while True:\n",
    "    centroid, label = kmeans2(data=obs, k=optimal_k, iter=300, minit=\"++\")\n",
    "    counts = np.bincount(label)\n",
    "    if all(count < 6 for count in counts):\n",
    "        break\n",
    "\n",
    "# ------- Print KMeans cluster groups in text -------\n",
    "group_dict = {i: [] for i in range(4)}\n",
    "\n",
    "for i in range(len(label)):\n",
    "    l = label[i]\n",
    "    word = wordbox[i]\n",
    "    group_dict[l].append(word)\n",
    "\n",
    "for key, value in group_dict.items():\n",
    "    print(f\"{value}\")"
   ]
  }
 ],
 "metadata": {
  "kernelspec": {
   "display_name": "Python 3 (ipykernel)",
   "language": "python",
   "name": "python3"
  },
  "language_info": {
   "codemirror_mode": {
    "name": "ipython",
    "version": 3
   },
   "file_extension": ".py",
   "mimetype": "text/x-python",
   "name": "python",
   "nbconvert_exporter": "python",
   "pygments_lexer": "ipython3",
   "version": "3.8.18"
  }
 },
 "nbformat": 4,
 "nbformat_minor": 5
}
